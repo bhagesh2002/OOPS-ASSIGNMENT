{
  "nbformat": 4,
  "nbformat_minor": 0,
  "metadata": {
    "colab": {
      "provenance": []
    },
    "kernelspec": {
      "name": "python3",
      "display_name": "Python 3"
    },
    "language_info": {
      "name": "python"
    }
  },
  "cells": [
    {
      "cell_type": "markdown",
      "source": [
        "1) Write Code to reverse string?"
      ],
      "metadata": {
        "id": "AVTbu6IuRxTR"
      }
    },
    {
      "cell_type": "markdown",
      "source": [
        "Q1) Write a code to reverse a string?"
      ],
      "metadata": {
        "id": "uHT2C_kJUceM"
      }
    },
    {
      "cell_type": "code",
      "source": [
        "def reverse_string(s):\n",
        "    return s[::-1]\n",
        "\n",
        "# Example usage:\n",
        "print(reverse_string(\"hello\"))  # Output: \"olleh\"\n"
      ],
      "metadata": {
        "colab": {
          "base_uri": "https://localhost:8080/"
        },
        "id": "sjgEwd7hT-BI",
        "outputId": "395d551f-67c9-4781-9b67-88e5f5ca717f"
      },
      "execution_count": 2,
      "outputs": [
        {
          "output_type": "stream",
          "name": "stdout",
          "text": [
            "olleh\n"
          ]
        }
      ]
    },
    {
      "cell_type": "markdown",
      "source": [
        "Q2) Write a code to count the number of vowels in a string?"
      ],
      "metadata": {
        "id": "0xtwcq3K5B4v"
      }
    },
    {
      "cell_type": "code",
      "source": [
        "def count_vowels(s):\n",
        "    vowels = 'aeiouAEIOU'\n",
        "    return sum(1 for char in s if char in vowels)\n",
        "\n",
        "# Example usage:\n",
        "print(count_vowels(\"hello world\"))  # Output: 3\n"
      ],
      "metadata": {
        "colab": {
          "base_uri": "https://localhost:8080/"
        },
        "id": "TRX0dtfy5BLp",
        "outputId": "fa2c5801-a320-4d3a-8428-beaa52d61ede"
      },
      "execution_count": 3,
      "outputs": [
        {
          "output_type": "stream",
          "name": "stdout",
          "text": [
            "3\n"
          ]
        }
      ]
    },
    {
      "cell_type": "markdown",
      "source": [
        "Q3) Write a code to check if a given string is palindrome or not?"
      ],
      "metadata": {
        "id": "lFD2ijA85eBy"
      }
    },
    {
      "cell_type": "code",
      "source": [
        "def is_palindrome(s):\n",
        "    return s == s[::-1]\n",
        "\n",
        "# Example usage:\n",
        "print(is_palindrome(\"madam\"))  # Output: True\n",
        "print(is_palindrome(\"hello\"))  # Output: False\n"
      ],
      "metadata": {
        "colab": {
          "base_uri": "https://localhost:8080/"
        },
        "id": "b5BChogy5Wrw",
        "outputId": "4f81e783-e744-452d-d0cd-bb0eec00dcfe"
      },
      "execution_count": 4,
      "outputs": [
        {
          "output_type": "stream",
          "name": "stdout",
          "text": [
            "True\n",
            "False\n"
          ]
        }
      ]
    },
    {
      "cell_type": "markdown",
      "source": [
        "Q4) Write a code to check if two given strings are anagrams of ea%h other?"
      ],
      "metadata": {
        "id": "Q2mrAr_T6Os1"
      }
    },
    {
      "cell_type": "code",
      "source": [
        "def are_anagrams(s1, s2):\n",
        "    return sorted(s1) == sorted(s2)\n",
        "\n",
        "# Example usage:\n",
        "print(are_anagrams(\"listen\", \"silent\"))  # Output: True\n",
        "print(are_anagrams(\"hello\", \"world\"))    # Output: False\n"
      ],
      "metadata": {
        "colab": {
          "base_uri": "https://localhost:8080/"
        },
        "id": "ROLmjoAL6MD0",
        "outputId": "06bbce05-ca30-4721-e7df-c6a0ad19873e"
      },
      "execution_count": 5,
      "outputs": [
        {
          "output_type": "stream",
          "name": "stdout",
          "text": [
            "True\n",
            "False\n"
          ]
        }
      ]
    },
    {
      "cell_type": "markdown",
      "source": [
        "\tQ5) Write a code to find all occurrences of a given substring within another string?"
      ],
      "metadata": {
        "id": "dzl2Xm8t7ubB"
      }
    },
    {
      "cell_type": "code",
      "source": [
        "def find_substring_occurrences(s, substring):\n",
        "    return [i for i in range(len(s)) if s.startswith(substring, i)]\n",
        "\n",
        "# Example usage:\n",
        "print(find_substring_occurrences(\"abracadabra\", \"abra\"))"
      ],
      "metadata": {
        "colab": {
          "base_uri": "https://localhost:8080/"
        },
        "id": "8bhfC1Vn7Usi",
        "outputId": "63e0451d-7218-4782-b2f1-7bcc71773125"
      },
      "execution_count": 6,
      "outputs": [
        {
          "output_type": "stream",
          "name": "stdout",
          "text": [
            "[0, 7]\n"
          ]
        }
      ]
    },
    {
      "cell_type": "markdown",
      "source": [
        "6) Write a code to perform a basic string compression using the counts of repeated characters?"
      ],
      "metadata": {
        "id": "NKzHzhjQ9Wri"
      }
    },
    {
      "cell_type": "code",
      "source": [
        "def string_compression(s):\n",
        "    compressed = []\n",
        "    count = 1\n",
        "    for i in range(1, len(s)):\n",
        "        if s[i] == s[i - 1]:\n",
        "            count += 1\n",
        "        else:\n",
        "            compressed.append(s[i - 1] + str(count))\n",
        "            count = 1\n",
        "    compressed.append(s[-1] + str(count))\n",
        "    return ''.join(compressed)\n",
        "\n",
        "# Example usage:\n",
        "print(string_compression(\"aaabbbccca\"))  # Output: \"a3b3c3a1\"\n"
      ],
      "metadata": {
        "colab": {
          "base_uri": "https://localhost:8080/"
        },
        "id": "92KpZHPX8VTm",
        "outputId": "7e49366c-a621-4ad9-8592-2dbf64601777"
      },
      "execution_count": 7,
      "outputs": [
        {
          "output_type": "stream",
          "name": "stdout",
          "text": [
            "a3b3c3a1\n"
          ]
        }
      ]
    },
    {
      "cell_type": "markdown",
      "source": [
        "Q7) Write a code to determine if a string has all unique characters?"
      ],
      "metadata": {
        "id": "igLwek4W_NQh"
      }
    },
    {
      "cell_type": "code",
      "source": [
        "def has_unique_characters(s):\n",
        "    return len(set(s)) == len(s)\n",
        "\n",
        "# Example usage:\n",
        "print(has_unique_characters(\"hello\"))  # Output: False\n",
        "print(has_unique_characters(\"world\"))  # Output: True\n"
      ],
      "metadata": {
        "colab": {
          "base_uri": "https://localhost:8080/"
        },
        "id": "veNpVi5J_Io1",
        "outputId": "c19deec9-20e0-4e9f-d281-f7f01541012d"
      },
      "execution_count": 9,
      "outputs": [
        {
          "output_type": "stream",
          "name": "stdout",
          "text": [
            "False\n",
            "True\n"
          ]
        }
      ]
    },
    {
      "cell_type": "markdown",
      "source": [
        "8) Write a code to convert a given string to uppercase or lowercase?"
      ],
      "metadata": {
        "id": "flpIT7-X_7D_"
      }
    },
    {
      "cell_type": "code",
      "source": [
        "def to_uppercase(s):\n",
        "    return s.upper()\n",
        "\n",
        "def to_lowercase(s):\n",
        "    return s.lower()\n",
        "\n",
        "# Example usage:\n",
        "print(to_uppercase(\"hello\"))  # Output: \"HELLO\"\n",
        "print(to_lowercase(\"HELLO\"))  # Output: \"hello\"\n"
      ],
      "metadata": {
        "colab": {
          "base_uri": "https://localhost:8080/"
        },
        "id": "OnVzoO1N_vgr",
        "outputId": "84122764-287a-4758-95ed-3a99943f941b"
      },
      "execution_count": 10,
      "outputs": [
        {
          "output_type": "stream",
          "name": "stdout",
          "text": [
            "HELLO\n",
            "hello\n"
          ]
        }
      ]
    },
    {
      "cell_type": "markdown",
      "source": [
        "9) Write a code to count the number of words in a string?"
      ],
      "metadata": {
        "id": "Vg_7_JldAe05"
      }
    },
    {
      "cell_type": "code",
      "source": [
        "def count_words(s):\n",
        "    return len(s.split())\n",
        "\n",
        "# Example usage:\n",
        "print(count_words(\"hello world\"))  # Output: 2\n"
      ],
      "metadata": {
        "colab": {
          "base_uri": "https://localhost:8080/"
        },
        "id": "BQFxc8uzAUJb",
        "outputId": "551ab7ae-32e0-4c2f-b174-24e2a1af72d5"
      },
      "execution_count": 11,
      "outputs": [
        {
          "output_type": "stream",
          "name": "stdout",
          "text": [
            "2\n"
          ]
        }
      ]
    },
    {
      "cell_type": "markdown",
      "source": [
        "10) Write a code to concatinate two strings without using the + operators?"
      ],
      "metadata": {
        "id": "BWvn3OZiDE3i"
      }
    },
    {
      "cell_type": "code",
      "source": [
        "def concatenate_strings(s1, s2):\n",
        "    return \"{}{}\".format(s1, s2)\n",
        "\n",
        "# Example usage:\n",
        "print(concatenate_strings(\"hello\", \"world\"))  # Output: \"helloworld\""
      ],
      "metadata": {
        "colab": {
          "base_uri": "https://localhost:8080/"
        },
        "id": "lPAJX3h9DDWM",
        "outputId": "b217437f-bb78-4189-9059-93360e6420bb"
      },
      "execution_count": 13,
      "outputs": [
        {
          "output_type": "stream",
          "name": "stdout",
          "text": [
            "helloworld\n"
          ]
        }
      ]
    },
    {
      "cell_type": "markdown",
      "source": [
        "11) Write a code to remove all occurrences of a specific element from a list?"
      ],
      "metadata": {
        "id": "bFAESqJeEZqY"
      }
    },
    {
      "cell_type": "code",
      "source": [
        "def remove_element(lst, element):\n",
        "    return [x for x in lst if x != element]\n",
        "\n",
        "# Example usage:\n",
        "print(remove_element([1, 2, 3, 2, 4, 2], 2))  # Output: [1, 3, 4]\n"
      ],
      "metadata": {
        "colab": {
          "base_uri": "https://localhost:8080/"
        },
        "id": "_Hj4N2aGER_T",
        "outputId": "d6eb0272-4934-443d-9b4c-dbc43660e11f"
      },
      "execution_count": 15,
      "outputs": [
        {
          "output_type": "stream",
          "name": "stdout",
          "text": [
            "[1, 3, 4]\n"
          ]
        }
      ]
    },
    {
      "cell_type": "markdown",
      "source": [
        "12) Impliment a code to find the second largest number in a given list of integers?"
      ],
      "metadata": {
        "id": "X5nOy5mBFJPk"
      }
    },
    {
      "cell_type": "code",
      "source": [
        "def second_largest(lst):\n",
        "    unique_lst = list(set(lst))  # Remove duplicates\n",
        "    unique_lst.sort()\n",
        "    return unique_lst[-2] if len(unique_lst) > 1 else None\n",
        "\n",
        "# Example usage:\n",
        "print(second_largest([10, 20, 4, 45, 99, 99]))  # Output: 45\n"
      ],
      "metadata": {
        "colab": {
          "base_uri": "https://localhost:8080/"
        },
        "id": "j7RDef1XEyd4",
        "outputId": "58bb795d-920d-4663-84c6-9ae99dfca7f2"
      },
      "execution_count": 16,
      "outputs": [
        {
          "output_type": "stream",
          "name": "stdout",
          "text": [
            "45\n"
          ]
        }
      ]
    },
    {
      "cell_type": "markdown",
      "source": [
        "13) Create a code to count the occurrences of each element in a list and return a dictionary\n",
        " with elements as\n",
        "key\n",
        "and their counts as values?"
      ],
      "metadata": {
        "id": "YixcNIC8HOZI"
      }
    },
    {
      "cell_type": "code",
      "source": [
        "def count_occurrences(lst):\n",
        "    counts = {}\n",
        "    for item in lst:\n",
        "        counts[item] = counts.get(item, 0) + 1\n",
        "    return counts\n",
        "\n",
        "# Example usage:\n",
        "print(count_occurrences([1, 2, 2, 3, 4, 4, 4]))\n",
        "# Output: {1: 1, 2: 2, 3: 1, 4: 3}\n"
      ],
      "metadata": {
        "colab": {
          "base_uri": "https://localhost:8080/"
        },
        "id": "mFS_VJ3RHDBy",
        "outputId": "f6d3ff19-de4b-4b50-d643-cb6e9be94f70"
      },
      "execution_count": 18,
      "outputs": [
        {
          "output_type": "stream",
          "name": "stdout",
          "text": [
            "{1: 1, 2: 2, 3: 1, 4: 3}\n"
          ]
        }
      ]
    },
    {
      "cell_type": "markdown",
      "source": [
        "14) Write a code to reverse a list in-place without using an\n",
        " built-in reverse fuction?"
      ],
      "metadata": {
        "id": "ZMA5Q4tCLFGf"
      }
    },
    {
      "cell_type": "code",
      "source": [
        "def reverse_list(lst):\n",
        "    left, right = 0, len(lst) - 1\n",
        "    while left < right:\n",
        "        lst[left], lst[right] = lst[right], lst[left]\n",
        "        left += 1\n",
        "        right -= 1\n",
        "\n",
        "# Example usage:\n",
        "my_list = [1, 2, 3, 4, 5]\n",
        "reverse_list(my_list)\n",
        "print(my_list)  # Output: [5, 4, 3, 2, 1]\n"
      ],
      "metadata": {
        "colab": {
          "base_uri": "https://localhost:8080/"
        },
        "id": "is225v77K6Ds",
        "outputId": "3043028c-42e7-4034-c9e7-a4a45f7a98e5"
      },
      "execution_count": 21,
      "outputs": [
        {
          "output_type": "stream",
          "name": "stdout",
          "text": [
            "[5, 4, 3, 2, 1]\n"
          ]
        }
      ]
    },
    {
      "cell_type": "markdown",
      "source": [
        "15) Implement a code to find and remove duplicates from a list while preserving the original order of\n",
        "elements?"
      ],
      "metadata": {
        "id": "BfDNQROcMDDP"
      }
    },
    {
      "cell_type": "code",
      "source": [
        "def remove_duplicates(lst):\n",
        "    seen = set()\n",
        "    result = []\n",
        "    for item in lst:\n",
        "        if item not in seen:\n",
        "            result.append(item)\n",
        "            seen.add(item)\n",
        "    return result\n",
        "\n",
        "# Example usage:\n",
        "print(remove_duplicates([1, 2, 2, 3, 4, 4, 5]))  # Output: [1, 2, 3, 4, 5]\n"
      ],
      "metadata": {
        "colab": {
          "base_uri": "https://localhost:8080/"
        },
        "id": "TUEQKNoSLjxl",
        "outputId": "8a823910-7b0c-44a1-c372-729ce99df233"
      },
      "execution_count": 22,
      "outputs": [
        {
          "output_type": "stream",
          "name": "stdout",
          "text": [
            "[1, 2, 3, 4, 5]\n"
          ]
        }
      ]
    },
    {
      "cell_type": "markdown",
      "source": [],
      "metadata": {
        "id": "T0LOtToROKN2"
      }
    },
    {
      "cell_type": "code",
      "source": [],
      "metadata": {
        "id": "a52BwpygN3RS"
      },
      "execution_count": null,
      "outputs": []
    }
  ]
}