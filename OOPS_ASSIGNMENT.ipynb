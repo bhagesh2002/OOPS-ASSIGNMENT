{
  "nbformat": 4,
  "nbformat_minor": 0,
  "metadata": {
    "colab": {
      "provenance": []
    },
    "kernelspec": {
      "name": "python3",
      "display_name": "Python 3"
    },
    "language_info": {
      "name": "python"
    }
  },
  "cells": [
    {
      "cell_type": "markdown",
      "source": [
        "OOPS ASSIGNMENT"
      ],
      "metadata": {
        "id": "UHdNfxwwzhK4"
      }
    },
    {
      "cell_type": "code",
      "source": [],
      "metadata": {
        "id": "UnY8oU_yz1ir"
      },
      "execution_count": null,
      "outputs": []
    },
    {
      "cell_type": "markdown",
      "source": [
        "1. What are the five key concepts of Object-Oriented Programming (OOP)?"
      ],
      "metadata": {
        "id": "4dW2034o0OE_"
      }
    },
    {
      "cell_type": "markdown",
      "source": [
        "\n",
        "\n",
        "Five Key Concepts of Object-Oriented Programming (OOP):\n",
        "\n",
        "Encapsulation: Bundling data (attributes) and methods (functions) that operate\n",
        "               on the data within a single unit or class, and controlling access to them.\n",
        "\n",
        "Abstraction: Hiding the internal implementation details and showing only the\n",
        "             essential features of an object.\n",
        "\n",
        "Inheritance: Mechanism by which one class can inherit attributes and methods\n",
        "             from another, allowing for code reuse.\n",
        "\n",
        "Polymorphism: Ability of different classes to be treated as instances of the\n",
        "             same class through method overriding or interface sharing.\n",
        "\n",
        "Composition: A design principle where objects are composed of other objects,\n",
        "             allowing complex systems to be built from simpler components.\n"
      ],
      "metadata": {
        "id": "4Paqum1h04tm"
      }
    },
    {
      "cell_type": "code",
      "source": [],
      "metadata": {
        "id": "3oUBwKDl1XRE"
      },
      "execution_count": 1,
      "outputs": []
    },
    {
      "cell_type": "markdown",
      "source": [
        "2. Write a Python class for a Car with attributes for make, model, and year. Include a method to display\n",
        "the car's information."
      ],
      "metadata": {
        "id": "tsfNZezN139H"
      }
    },
    {
      "cell_type": "code",
      "source": [
        "class Car:\n",
        "    def __init__(self, make, model, year):\n",
        "        self.make = make\n",
        "        self.model = model\n",
        "        self.year = year\n",
        "\n",
        "    def display_info(self):\n",
        "        print(f\"Car Information: {self.year} {self.make} {self.model}\")\n",
        "\n",
        "# Example usage:\n",
        "car = Car(\"Toyota\", \"Corolla\", 2022)\n",
        "car.display_info()"
      ],
      "metadata": {
        "colab": {
          "base_uri": "https://localhost:8080/"
        },
        "id": "Ldm3Noxy2JVo",
        "outputId": "2a4a14b8-9020-4682-a190-dd4ebcb8c861"
      },
      "execution_count": 2,
      "outputs": [
        {
          "output_type": "stream",
          "name": "stdout",
          "text": [
            "Car Information: 2022 Toyota Corolla\n"
          ]
        }
      ]
    },
    {
      "cell_type": "markdown",
      "source": [],
      "metadata": {
        "id": "y259JtPp2KcS"
      }
    },
    {
      "cell_type": "markdown",
      "source": [
        "3) Difference Between Instance Methods and Class Methods . Provide one example?"
      ],
      "metadata": {
        "id": "0Id8Vml02v1X"
      }
    },
    {
      "cell_type": "markdown",
      "source": [
        "**Instance** Methods: Operate on an instance of the class. They can access and modify object-specific data. By default, the first parameter is self, which refers to the current object.\n",
        "\n",
        "**Class Methods**: Operate on the class itself rather than instances. The first parameter is cls, which refers to the class. These methods can modify class-level data, but not instance data."
      ],
      "metadata": {
        "id": "rwftBx6P3jai"
      }
    },
    {
      "cell_type": "code",
      "source": [
        "class Example:\n",
        "    # Class attribute\n",
        "    count = 0\n",
        "\n",
        "    def __init__(self, name):\n",
        "        self.name = name  # Instance attribute\n",
        "\n",
        "    # Instance method\n",
        "    def show_name(self):\n",
        "        return f\"Instance method called by {self.name}\"\n",
        "\n",
        "    # Class method\n",
        "    @classmethod\n",
        "    def increment_count(cls):\n",
        "        cls.count += 1\n",
        "        return f\"Class method called. Count is now {cls.count}\"\n",
        "\n",
        "# Usage:\n",
        "obj = Example(\"Object1\")\n",
        "print(obj.show_name())  # Instance method\n",
        "print(Example.increment_count())  # Class method\n"
      ],
      "metadata": {
        "colab": {
          "base_uri": "https://localhost:8080/"
        },
        "id": "DttMBIMZ4RGb",
        "outputId": "fdc0cd82-438f-4617-d156-c9ed0b25f630"
      },
      "execution_count": 4,
      "outputs": [
        {
          "output_type": "stream",
          "name": "stdout",
          "text": [
            "Instance method called by Object1\n",
            "Class method called. Count is now 1\n"
          ]
        }
      ]
    },
    {
      "cell_type": "markdown",
      "source": [],
      "metadata": {
        "id": "5xbZzmqM5KtP"
      }
    },
    {
      "cell_type": "markdown",
      "source": [
        "4. How does Python implement method overloading? Give an example."
      ],
      "metadata": {
        "id": "P97-JROZ5VRj"
      }
    },
    {
      "cell_type": "markdown",
      "source": [
        "**Method Overloading in Python:** Python does not support method overloading (i.e., having multiple methods with the same name but different parameter lists). Instead, you can use default arguments or variable-length arguments to achieve similar functionality."
      ],
      "metadata": {
        "id": "Vzk-M8Pg5O9-"
      }
    },
    {
      "cell_type": "code",
      "source": [
        "class MathOperations:\n",
        "    def add(self, a, b=0, c=0):\n",
        "        return a + b + c\n",
        "\n",
        "# Usage:\n",
        "math = MathOperations()\n",
        "print(math.add(2))       # 2\n",
        "print(math.add(2, 3))    # 5\n",
        "print(math.add(2, 3, 4)) # 9\n"
      ],
      "metadata": {
        "colab": {
          "base_uri": "https://localhost:8080/"
        },
        "id": "UYJW5QyL5L-D",
        "outputId": "98a27b0c-e8d4-4827-c52a-b2b26271f0f8"
      },
      "execution_count": 7,
      "outputs": [
        {
          "output_type": "stream",
          "name": "stdout",
          "text": [
            "2\n",
            "5\n",
            "9\n"
          ]
        }
      ]
    },
    {
      "cell_type": "markdown",
      "source": [
        "5. What are the three types of access modifiers in Python? How are they denoted?"
      ],
      "metadata": {
        "id": "gLyNWujL5_r3"
      }
    },
    {
      "cell_type": "markdown",
      "source": [
        "Three Types of Access Modifiers in python are;"
      ],
      "metadata": {
        "id": "LFocJLzZ6jGu"
      }
    },
    {
      "cell_type": "markdown",
      "source": [
        "**Public**: Accessible from anywhere. By default, all attributes and methods  \n",
        "            are public. Denoted without any underscores.\n",
        "\n",
        "```\n",
        "# This is formatted as code\n",
        "```\n",
        "\n",
        "\n",
        "self.public_var = \"I am public\"\n",
        "\n",
        "**Protected**: Should be accessed only within the class and its subclasses.\n",
        "               Denoted by a single underscore (_).\n",
        "\n",
        "\n",
        "```\n",
        "# This is formatted as code\n",
        "```\n",
        "\n",
        "\n",
        "self._protected_var = \"I am protected\"\n",
        "\n",
        "**Private**: Accessible only within the class where it is defined. Denoted by\n",
        "            two underscores (__).\n",
        "\n",
        "\n",
        "```\n",
        "# This is formatted as code\n",
        "```\n",
        "\n",
        "\n",
        "self.__private_var = \"I am private\"\n",
        "\n",
        "Python does not strictly enforce these modifiers, but these conventions help in indicating the intended level of access."
      ],
      "metadata": {
        "id": "RFqyV6zoBoXW"
      }
    },
    {
      "cell_type": "markdown",
      "source": [
        "\n",
        "\n",
        "6) Describe the five types of inheritance in Python. Provide a simple example of multiple inheritance\n",
        "\n"
      ],
      "metadata": {
        "id": "n-TFWrtaDU2G"
      }
    },
    {
      "cell_type": "markdown",
      "source": [
        "a) Single Inheritance: A class inherits from a single base class.\n"
      ],
      "metadata": {
        "id": "jbqOiXGsD5ar"
      }
    },
    {
      "cell_type": "code",
      "source": [
        "class A:\n",
        "    pass\n",
        "\n",
        "class B(A):\n",
        "    pass"
      ],
      "metadata": {
        "id": "jqwSodk-EGTc"
      },
      "execution_count": 13,
      "outputs": []
    },
    {
      "cell_type": "markdown",
      "source": [
        "b) Multiple Inheritance: A class inherits from more than one base class."
      ],
      "metadata": {
        "id": "smY3rcxoEnTW"
      }
    },
    {
      "cell_type": "code",
      "source": [
        "class A:\n",
        "    pass\n",
        "\n",
        "class B:\n",
        "    pass\n",
        "\n",
        "class C(A, B):\n",
        "    pass"
      ],
      "metadata": {
        "id": "9y3Rhoj5Eozw"
      },
      "execution_count": 14,
      "outputs": []
    },
    {
      "cell_type": "markdown",
      "source": [
        "c) Multilevel Inheritance: A class inherits from a class that is already a derived class."
      ],
      "metadata": {
        "id": "RwhLbLOvE7hS"
      }
    },
    {
      "cell_type": "code",
      "source": [
        "class A:\n",
        "    pass\n",
        "\n",
        "class B(A):\n",
        "    pass\n",
        "\n",
        "class C(B):\n",
        "    pass\n"
      ],
      "metadata": {
        "id": "YIu3uxMmExno"
      },
      "execution_count": 15,
      "outputs": []
    },
    {
      "cell_type": "markdown",
      "source": [
        "d) Hierarchical Inheritance: Multiple classes inherit from the same base class."
      ],
      "metadata": {
        "id": "CpwqoDNjFGwh"
      }
    },
    {
      "cell_type": "code",
      "source": [
        "class A:\n",
        "    pass\n",
        "\n",
        "class B(A):\n",
        "    pass\n",
        "\n",
        "class C(A):\n",
        "    pass\n"
      ],
      "metadata": {
        "id": "MVfrWN8rFDR_"
      },
      "execution_count": 16,
      "outputs": []
    },
    {
      "cell_type": "markdown",
      "source": [
        "e) Hybrid Inheritance: A combination of two or more types of inheritance.\n",
        "\n",
        "python"
      ],
      "metadata": {
        "id": "2SFs_N-YFXLz"
      }
    },
    {
      "cell_type": "code",
      "source": [
        "class A:\n",
        "    pass\n",
        "\n",
        "class B(A):\n",
        "    pass\n",
        "\n",
        "class C(A):\n",
        "    pass\n",
        "\n",
        "class D(B, C):  # Combination of multiple and hierarchical inheritance\n",
        "    pass\n"
      ],
      "metadata": {
        "id": "XudupcdfFNgD"
      },
      "execution_count": 17,
      "outputs": []
    },
    {
      "cell_type": "markdown",
      "source": [
        "7. What is the Method Resolution Order (MRO) in Python? How can you retrieve it programmatically?"
      ],
      "metadata": {
        "id": "hTI3IhLYF-_e"
      }
    },
    {
      "cell_type": "markdown",
      "source": [
        "**Method Resolution Order (MRO)** in Python: MRO is the order in which Python looks for a method or attribute in a hierarchy of classes during inheritance. It follows the C3 linearization algorithm.\n",
        "\n",
        "To retrieve the MRO of a class programmatically, you can use:\n",
        "\n",
        "\n",
        "\n",
        "*   ClassName.__mro__ or\n",
        "*   ClassName.mro()\n",
        "\n"
      ],
      "metadata": {
        "id": "PnNbIh7aG5dW"
      }
    },
    {
      "cell_type": "code",
      "source": [
        "class A:\n",
        "    pass\n",
        "\n",
        "class B(A):\n",
        "    pass\n",
        "\n",
        "class C(B):\n",
        "    pass\n",
        "\n",
        "print(C.mro())\n"
      ],
      "metadata": {
        "colab": {
          "base_uri": "https://localhost:8080/"
        },
        "id": "jv8uooy7G4c9",
        "outputId": "1fa191e7-36ca-4c67-ede1-75ee3ede538f"
      },
      "execution_count": 18,
      "outputs": [
        {
          "output_type": "stream",
          "name": "stdout",
          "text": [
            "[<class '__main__.C'>, <class '__main__.B'>, <class '__main__.A'>, <class 'object'>]\n"
          ]
        }
      ]
    },
    {
      "cell_type": "markdown",
      "source": [
        "8. Create an abstract base class `Shape` with an abstract method `area()`. Then create two subclasses\n",
        "`Circle` and `Rectangle` that implement the `area()` method."
      ],
      "metadata": {
        "id": "RoXaD8CGH3bY"
      }
    },
    {
      "cell_type": "code",
      "source": [
        "from abc import ABC, abstractmethod\n",
        "\n",
        "class Shape(ABC):\n",
        "    @abstractmethod\n",
        "    def area(self):\n",
        "        pass\n",
        "\n",
        "class Circle(Shape):\n",
        "    def __init__(self, radius):\n",
        "        self.radius = radius\n",
        "\n",
        "    def area(self):\n",
        "        return 3.14 * self.radius ** 2\n",
        "\n",
        "class Rectangle(Shape):\n",
        "    def __init__(self, length, width):\n",
        "        self.length = length\n",
        "        self.width = width\n",
        "\n",
        "    def area(self):\n",
        "        return self.length * self.width\n",
        "\n",
        "# Example usage:\n",
        "circle = Circle(5)\n",
        "rectangle = Rectangle(4, 6)\n",
        "print(circle.area())  # Output: 78.5\n",
        "print(rectangle.area())  # Output: 24\n"
      ],
      "metadata": {
        "colab": {
          "base_uri": "https://localhost:8080/"
        },
        "id": "PygW2NnPHe4i",
        "outputId": "d116bed4-1050-433d-dedd-38f1a4d147ec"
      },
      "execution_count": 19,
      "outputs": [
        {
          "output_type": "stream",
          "name": "stdout",
          "text": [
            "78.5\n",
            "24\n"
          ]
        }
      ]
    },
    {
      "cell_type": "markdown",
      "source": [
        "9. Demonstrate polymorphism by creating a function that can work with different shape objects to calculate\n",
        "and print their areas."
      ],
      "metadata": {
        "id": "BU0bfGq7ILzr"
      }
    },
    {
      "cell_type": "code",
      "source": [
        "def print_area(shape):\n",
        "    print(f\"The area is: {shape.area()}\")\n",
        "\n",
        "# Example usage:\n",
        "circle = Circle(3)\n",
        "rectangle = Rectangle(5, 2)\n",
        "\n",
        "print_area(circle)      # Output: The area is: 28.26\n",
        "print_area(rectangle)   # Output: The area is: 10\n"
      ],
      "metadata": {
        "colab": {
          "base_uri": "https://localhost:8080/"
        },
        "id": "2RA0wKekIESc",
        "outputId": "9d9b4bfa-298f-4eaf-b66e-84864069986a"
      },
      "execution_count": 20,
      "outputs": [
        {
          "output_type": "stream",
          "name": "stdout",
          "text": [
            "The area is: 28.26\n",
            "The area is: 10\n"
          ]
        }
      ]
    },
    {
      "cell_type": "markdown",
      "source": [
        "10. Implement encapsulation in a `BankAccount` class with private attributes for `balance` and\n",
        "`account_number`. Include methods for deposit, withdrawal, and balance inquiry"
      ],
      "metadata": {
        "id": "GicrwzfQIuBX"
      }
    },
    {
      "cell_type": "code",
      "source": [
        "class BankAccount:\n",
        "    def __init__(self, account_number, balance=0):\n",
        "        self.__account_number = account_number  # Private attribute\n",
        "        self.__balance = balance  # Private attribute\n",
        "\n",
        "    def deposit(self, amount):\n",
        "        if amount > 0:\n",
        "            self.__balance += amount\n",
        "            print(f\"Deposited {amount}. New balance: {self.__balance}\")\n",
        "        else:\n",
        "            print(\"Deposit amount must be positive.\")\n",
        "\n",
        "    def withdraw(self, amount):\n",
        "        if 0 < amount <= self.__balance:\n",
        "            self.__balance -= amount\n",
        "            print(f\"Withdrew {amount}. New balance: {self.__balance}\")\n",
        "        else:\n",
        "            print(\"Insufficient balance or invalid amount.\")\n",
        "\n",
        "    def get_balance(self):\n",
        "        return f\"Account balance: {self.__balance}\"\n",
        "\n",
        "# Example usage:\n",
        "account = BankAccount(\"12345678\", 1000)\n",
        "account.deposit(500)\n",
        "account.withdraw(200)\n",
        "print(account.get_balance())  # Output: Account balance: 1300\n"
      ],
      "metadata": {
        "colab": {
          "base_uri": "https://localhost:8080/"
        },
        "id": "qWj-OZWlIdKk",
        "outputId": "08d2b3bd-a4c1-4304-d94c-1ef90608ccbb"
      },
      "execution_count": 21,
      "outputs": [
        {
          "output_type": "stream",
          "name": "stdout",
          "text": [
            "Deposited 500. New balance: 1500\n",
            "Withdrew 200. New balance: 1300\n",
            "Account balance: 1300\n"
          ]
        }
      ]
    },
    {
      "cell_type": "markdown",
      "source": [
        "11. Write a class that overrides the `__str__` and `__add__` magic methods. What will these methods allow\n",
        "you to do?"
      ],
      "metadata": {
        "id": "4Nc9syn-JKgo"
      }
    },
    {
      "cell_type": "markdown",
      "source": [
        "\n",
        "\n",
        "*   __str__(self): Defines how the object should be represented as a string, allowing you to customize the output of print(object).\n",
        "*   __add__(self, other): Defines how objects of a class should be added together using the + operator.\n",
        "\n"
      ],
      "metadata": {
        "id": "PqFT2P47JUCS"
      }
    },
    {
      "cell_type": "code",
      "source": [
        "class Point:\n",
        "    def __init__(self, x, y):\n",
        "        self.x = x\n",
        "        self.y = y\n",
        "\n",
        "    # Override __str__\n",
        "    def __str__(self):\n",
        "        return f\"Point({self.x}, {self.y})\"\n",
        "\n",
        "    # Override __add__\n",
        "    def __add__(self, other):\n",
        "        return Point(self.x + other.x, self.y + other.y)\n",
        "\n",
        "# Example usage:\n",
        "p1 = Point(2, 3)\n",
        "p2 = Point(4, 5)\n",
        "\n",
        "print(p1)             # Output: Point(2, 3)\n",
        "p3 = p1 + p2\n",
        "print(p3)             # Output: Point(6, 8)\n"
      ],
      "metadata": {
        "colab": {
          "base_uri": "https://localhost:8080/"
        },
        "id": "H__pflhVJIVL",
        "outputId": "11bdf245-87fb-4f4c-aec3-a6cdfb0fc683"
      },
      "execution_count": 23,
      "outputs": [
        {
          "output_type": "stream",
          "name": "stdout",
          "text": [
            "Point(2, 3)\n",
            "Point(6, 8)\n"
          ]
        }
      ]
    },
    {
      "cell_type": "markdown",
      "source": [
        "12. Create a decorator that measures and prints the execution time of a function."
      ],
      "metadata": {
        "id": "aADLZr1MKEm4"
      }
    },
    {
      "cell_type": "code",
      "source": [
        "import time\n",
        "\n",
        "def execution_time_decorator(func):\n",
        "    def wrapper(*args, **kwargs):\n",
        "        start_time = time.time()\n",
        "        result = func(*args, **kwargs)\n",
        "        end_time = time.time()\n",
        "        print(f\"Execution time: {end_time - start_time:.6f} seconds\")\n",
        "        return result\n",
        "    return wrapper\n",
        "\n",
        "# Example usage:\n",
        "@execution_time_decorator\n",
        "def sample_function():\n",
        "    time.sleep(2)  # Simulating a time-consuming task\n",
        "\n",
        "sample_function()  # Output: Execution time: 2.000xxx seconds\n"
      ],
      "metadata": {
        "colab": {
          "base_uri": "https://localhost:8080/"
        },
        "id": "Sv2Acrd7JoEk",
        "outputId": "9bd50545-dd83-4e5a-90ee-a9d95b424ed3"
      },
      "execution_count": 24,
      "outputs": [
        {
          "output_type": "stream",
          "name": "stdout",
          "text": [
            "Execution time: 2.006934 seconds\n"
          ]
        }
      ]
    },
    {
      "cell_type": "markdown",
      "source": [
        "13. Explain the concept of the Diamond Problem in multiple inheritance. How does Python resolve it?"
      ],
      "metadata": {
        "id": "n3ScDipLKnuw"
      }
    },
    {
      "cell_type": "markdown",
      "source": [
        "The Diamond Problem in Multiple Inheritance: The diamond problem occurs when a class inherits from two classes that have a common base class, leading to ambiguity in method resolution. It is called the \"diamond problem\" because the inheritance diagram forms a diamond shape."
      ],
      "metadata": {
        "id": "6AA3hTTQKw1i"
      }
    },
    {
      "cell_type": "code",
      "source": [
        "class A:\n",
        "    def greet(self):\n",
        "        print(\"Hello from A\")\n",
        "\n",
        "class B(A):\n",
        "    def greet(self):\n",
        "        print(\"Hello from B\")\n",
        "\n",
        "class C(A):\n",
        "    def greet(self):\n",
        "        print(\"Hello from C\")\n",
        "\n",
        "class D(B, C):\n",
        "    pass\n",
        "\n",
        "obj = D()\n",
        "obj.greet()  # Which greet method will be called, from B or C?\n"
      ],
      "metadata": {
        "colab": {
          "base_uri": "https://localhost:8080/"
        },
        "id": "sHB5Fc1bKLwA",
        "outputId": "1dd43b56-7ca0-427a-ea0e-5e7c5f1e7272"
      },
      "execution_count": 25,
      "outputs": [
        {
          "output_type": "stream",
          "name": "stdout",
          "text": [
            "Hello from B\n"
          ]
        }
      ]
    },
    {
      "cell_type": "markdown",
      "source": [
        "Python’s Solution: Python resolves the diamond problem using the Method Resolution Order (MRO), which follows the C3 linearization algorithm. The MRO determines the order in which classes are checked for methods during inheritance."
      ],
      "metadata": {
        "id": "hHOZm8MbLQvp"
      }
    },
    {
      "cell_type": "code",
      "source": [
        "print(D.mro())\n"
      ],
      "metadata": {
        "colab": {
          "base_uri": "https://localhost:8080/"
        },
        "id": "JjuV0uxhK2WC",
        "outputId": "65118ec3-f411-4292-a857-381fca24e551"
      },
      "execution_count": 26,
      "outputs": [
        {
          "output_type": "stream",
          "name": "stdout",
          "text": [
            "[<class '__main__.D'>, <class '__main__.B'>, <class '__main__.C'>, <class '__main__.A'>, <class 'object'>]\n"
          ]
        }
      ]
    },
    {
      "cell_type": "markdown",
      "source": [
        "14. Write a class method that keeps track of the number of instances created from a class."
      ],
      "metadata": {
        "id": "MmnAro0eLjpg"
      }
    },
    {
      "cell_type": "code",
      "source": [
        "class MyClass:\n",
        "    instance_count = 0\n",
        "\n",
        "    def __init__(self):\n",
        "        MyClass.instance_count += 1\n",
        "\n",
        "    @classmethod\n",
        "    def get_instance_count(cls):\n",
        "        return f\"Total instances created: {cls.instance_count}\"\n",
        "\n",
        "# Example usage:\n",
        "obj1 = MyClass()\n",
        "obj2 = MyClass()\n",
        "print(MyClass.get_instance_count())  # Output: Total instances created: 2\n"
      ],
      "metadata": {
        "colab": {
          "base_uri": "https://localhost:8080/"
        },
        "id": "NZrxE5aELapm",
        "outputId": "de7b8a26-1eac-4faf-cd39-f51589f6e11c"
      },
      "execution_count": 27,
      "outputs": [
        {
          "output_type": "stream",
          "name": "stdout",
          "text": [
            "Total instances created: 2\n"
          ]
        }
      ]
    },
    {
      "cell_type": "markdown",
      "source": [
        "15. Implement a static method in a class that checks if a given year is a leap year."
      ],
      "metadata": {
        "id": "HEoftMlgL7NW"
      }
    },
    {
      "cell_type": "code",
      "source": [
        "class Year:\n",
        "    @staticmethod\n",
        "    def is_leap_year(year):\n",
        "        if (year % 4 == 0 and year % 100 != 0) or (year % 400 == 0):\n",
        "            return True\n",
        "        else:\n",
        "            return False\n",
        "\n",
        "# Example usage:\n",
        "print(Year.is_leap_year(2024))  # Output: True\n",
        "print(Year.is_leap_year(2023))  # Output: False\n"
      ],
      "metadata": {
        "colab": {
          "base_uri": "https://localhost:8080/"
        },
        "id": "EagJTV0iLxMQ",
        "outputId": "696106cd-0c9c-4a9f-e080-f99051c92e98"
      },
      "execution_count": 28,
      "outputs": [
        {
          "output_type": "stream",
          "name": "stdout",
          "text": [
            "True\n",
            "False\n"
          ]
        }
      ]
    },
    {
      "cell_type": "markdown",
      "source": [
        "The is_leap_year method is a static method, which means it does not rely on instance-specific data. It determines if a year is a leap year based on the rules for leap years."
      ],
      "metadata": {
        "id": "PpwXKEPXMQ_H"
      }
    },
    {
      "cell_type": "code",
      "source": [],
      "metadata": {
        "id": "mqVpNGCLMJfd"
      },
      "execution_count": null,
      "outputs": []
    }
  ]
}